{
 "cells": [
  {
   "cell_type": "code",
   "execution_count": 1,
   "id": "21c5440e",
   "metadata": {},
   "outputs": [],
   "source": [
    "import pymongo\n",
    "import json\n",
    "\n"
   ]
  },
  {
   "cell_type": "code",
   "execution_count": 4,
   "id": "f677cc4a",
   "metadata": {},
   "outputs": [],
   "source": [
    "def recup():\n",
    "    client = pymongo.MongoClient('mongo')\n",
    "    database = client['dataEngineering']\n",
    "    collection = database['test']\n",
    "    return next(collection.find())"
   ]
  },
  {
   "cell_type": "code",
   "execution_count": 5,
   "id": "e17e731c",
   "metadata": {},
   "outputs": [],
   "source": [
    "jaaj = recup()"
   ]
  },
  {
   "cell_type": "code",
   "execution_count": 6,
   "id": "9ec36fd9",
   "metadata": {},
   "outputs": [
    {
     "data": {
      "text/plain": [
       "{'_id': ObjectId('61e5904aa7ef8fb824f901d1'),\n",
       " 'Compagnie alle': 'ITA Airways',\n",
       " 'Compagnie retour': 'ITA Airways',\n",
       " 'Nb stop alle': '1stop',\n",
       " 'Nb stop retour': '1stop',\n",
       " 'Heure depart alle': '06:20 am',\n",
       " 'Heure depart retour': '09:40 pm',\n",
       " 'Temps trajet alle': '13h 40m ',\n",
       " 'Temps trajet retour': '13h 45m ',\n",
       " 'price': 376,\n",
       " 'date recup data': datetime.datetime(2022, 1, 17, 16, 50, 34, 748000),\n",
       " 'id_flight': 'CDG_JFK_2022-04-04_2022-04-09'}"
      ]
     },
     "execution_count": 6,
     "metadata": {},
     "output_type": "execute_result"
    }
   ],
   "source": [
    "jaaj"
   ]
  },
  {
   "cell_type": "code",
   "execution_count": null,
   "id": "02fdcf13",
   "metadata": {},
   "outputs": [],
   "source": []
  },
  {
   "cell_type": "code",
   "execution_count": null,
   "id": "44f24467",
   "metadata": {},
   "outputs": [],
   "source": []
  }
 ],
 "metadata": {
  "kernelspec": {
   "display_name": "Python 3 (ipykernel)",
   "language": "python",
   "name": "python3"
  },
  "language_info": {
   "codemirror_mode": {
    "name": "ipython",
    "version": 3
   },
   "file_extension": ".py",
   "mimetype": "text/x-python",
   "name": "python",
   "nbconvert_exporter": "python",
   "pygments_lexer": "ipython3",
   "version": "3.9.9"
  }
 },
 "nbformat": 4,
 "nbformat_minor": 5
}
