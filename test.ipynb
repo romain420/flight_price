{
 "cells": [
  {
   "cell_type": "code",
   "execution_count": 3,
   "id": "d84d97d9",
   "metadata": {},
   "outputs": [],
   "source": [
    "import pymongo\n",
    "import json\n",
    "\n"
   ]
  },
  {
   "cell_type": "code",
   "execution_count": 4,
   "id": "966208ec",
   "metadata": {},
   "outputs": [],
   "source": [
    "def recup():\n",
    "    client = pymongo.MongoClient('mongo')\n",
    "    database = client['dataEngineering']\n",
    "    collection = database['test']\n",
    "    return collection.find_one()"
   ]
  },
  {
   "cell_type": "code",
   "execution_count": 5,
   "id": "4d4e3260",
   "metadata": {},
   "outputs": [],
   "source": [
    "jaaj = recup()"
   ]
  },
  {
   "cell_type": "code",
   "execution_count": 6,
   "id": "69682472",
   "metadata": {},
   "outputs": [
    {
     "data": {
      "text/plain": [
       "{'_id': ObjectId('61e5904aa7ef8fb824f901d0'),\n",
       " 'Compagnie alle': 'Icelandair',\n",
       " 'Compagnie retour': 'Icelandair',\n",
       " 'Nb stop alle': '1stop',\n",
       " 'Nb stop retour': '1stop',\n",
       " 'Heure depart alle': '02:15 pm',\n",
       " 'Heure depart retour': '08:25 pm',\n",
       " 'Temps trajet alle': '10h 55m ',\n",
       " 'Temps trajet retour': '10h 40m ',\n",
       " 'price': 416,\n",
       " 'date recup data': datetime.datetime(2022, 1, 17, 16, 50, 34, 748000),\n",
       " 'id_flight': 'CDG_JFK_2022-04-04_2022-04-09'}"
      ]
     },
     "execution_count": 6,
     "metadata": {},
     "output_type": "execute_result"
    }
   ],
   "source": [
    "jaaj"
   ]
  }
 ],
 "metadata": {
  "kernelspec": {
   "display_name": "Python 3 (ipykernel)",
   "language": "python",
   "name": "python3"
  },
  "language_info": {
   "codemirror_mode": {
    "name": "ipython",
    "version": 3
   },
   "file_extension": ".py",
   "mimetype": "text/x-python",
   "name": "python",
   "nbconvert_exporter": "python",
   "pygments_lexer": "ipython3",
   "version": "3.9.9"
  }
 },
 "nbformat": 4,
 "nbformat_minor": 5
}
