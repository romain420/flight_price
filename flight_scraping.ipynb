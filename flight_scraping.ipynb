{
 "cells": [
  {
   "cell_type": "code",
   "execution_count": 2,
   "id": "304712bf",
   "metadata": {},
   "outputs": [],
   "source": [
    "import pandas as pd\n",
    "import numpy as np\n",
    "from selenium import webdriver\n",
    "from selenium.webdriver.common.by import By\n",
    "from selenium.webdriver.common.keys import Keys\n",
    "import time\n",
    "import datetime"
   ]
  },
  {
   "cell_type": "code",
   "execution_count": 1,
   "id": "e634e3c8",
   "metadata": {},
   "outputs": [],
   "source": [
    "# #ouverture du navigateur\n",
    "# driver_path = \"./chromedriver\"\n",
    "# brave_path = \"/usr/bin/brave-browser\"\n",
    "\n",
    "# option = webdriver.ChromeOptions()\n",
    "# option.binary_location = brave_path\n",
    "\n",
    "# browser = webdriver.Chrome(executable_path=brave_path, chrome_options=option)\n",
    "\n",
    "# browser.get(\"https://www.kayak.fr/\")"
   ]
  },
  {
   "cell_type": "code",
   "execution_count": 4,
   "id": "39d486ff",
   "metadata": {},
   "outputs": [],
   "source": [
    "options = webdriver.ChromeOptions()\n",
    "options.add_argument('--headless')  # example\n",
    "driver = webdriver.Remote(\"http://selenium:4444/wd/hub\", options=options)"
   ]
  },
  {
   "cell_type": "code",
   "execution_count": 9,
   "id": "50bbefa4",
   "metadata": {},
   "outputs": [],
   "source": [
    "driver.get(\"https://www.kayak.fr/\")"
   ]
  }
 ],
 "metadata": {
  "kernelspec": {
   "display_name": "Python 3 (ipykernel)",
   "language": "python",
   "name": "python3"
  },
  "language_info": {
   "codemirror_mode": {
    "name": "ipython",
    "version": 3
   },
   "file_extension": ".py",
   "mimetype": "text/x-python",
   "name": "python",
   "nbconvert_exporter": "python",
   "pygments_lexer": "ipython3",
   "version": "3.9.9"
  }
 },
 "nbformat": 4,
 "nbformat_minor": 5
}
